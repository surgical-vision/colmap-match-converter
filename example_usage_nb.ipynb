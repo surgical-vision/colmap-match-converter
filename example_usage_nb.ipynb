{
 "cells": [
  {
   "cell_type": "code",
   "execution_count": 1,
   "metadata": {},
   "outputs": [],
   "source": [
    "import torch\n",
    "import os"
   ]
  },
  {
   "cell_type": "markdown",
   "metadata": {},
   "source": [
    "--- other non-standard libs needed:\n",
    "\n",
    "------- h5py\n",
    "\n",
    "------- pycolmap \n",
    "\n",
    "------- Pillow\n",
    "\n",
    "------- numpy "
   ]
  },
  {
   "cell_type": "code",
   "execution_count": 3,
   "metadata": {},
   "outputs": [],
   "source": [
    "# initialize an example set \n",
    "match_folder = 'example/aliked-lg'\n",
    "image_folder = 'example/images'\n",
    "output_folder = 'example/output'"
   ]
  },
  {
   "cell_type": "code",
   "execution_count": 8,
   "metadata": {},
   "outputs": [
    {
     "name": "stdout",
     "output_type": "stream",
     "text": [
      "dict_keys(['num_inliers', 'H', 'mkpts0', 'mkpts1', 'img0_path', 'img1_path', 'matcher', 'n_kpts', 'im_size', 'time'])\n"
     ]
    }
   ],
   "source": [
    "# example torch structure\n",
    "files = os.listdir(match_folder)\n",
    "dict_1 = torch.load(match_folder + '/' + files[0])\n",
    "print(dict_1.keys()) # converter only needs mkpts0, mkpts1, img0_path, img1_path"
   ]
  },
  {
   "cell_type": "code",
   "execution_count": 4,
   "metadata": {},
   "outputs": [
    {
     "name": "stdout",
     "output_type": "stream",
     "text": [
      "\u001b[0m==============================================================================\u001b[0m\n",
      "\u001b[0mReading matches\u001b[0m\n",
      "\u001b[0mProcessing batch from 0 to 999\u001b[0m\n",
      "\u001b[0m==============================================================================\u001b[0m\n",
      "\u001b[92mSaved COLMAP matches for 00001.png in example/output/matches.h5\u001b[0m\n",
      "\u001b[92mSaved COLMAP matches for 00002.png in example/output/matches.h5\u001b[0m\n",
      "\u001b[92mSaved COLMAP matches for 00003.png in example/output/matches.h5\u001b[0m\n",
      "\u001b[92mSaved COLMAP matches for 00004.png in example/output/matches.h5\u001b[0m\n",
      "\u001b[0m==============================================================================\u001b[0m\n",
      "Adding keypoints: 100%|\u001b[35m███████████████████████████\u001b[0m| 5/5 [00:00<00:00, 31.69it/s]\u001b[0m\n",
      "10it [00:00, 7639.90it/s]                                                       \n"
     ]
    }
   ],
   "source": [
    "!python match_converter.py --matches \"{match_folder}\" --output_path \"{output_folder}\" --img_dir \"{image_folder}\" --matcher \"aliked-lg\"\n"
   ]
  },
  {
   "cell_type": "code",
   "execution_count": 5,
   "metadata": {},
   "outputs": [
    {
     "name": "stdout",
     "output_type": "stream",
     "text": [
      "\u001b[0m==============================================================================\u001b[0m\n",
      "I20240823 07:30:43.682397 0x16f787000 misc.cc:198] \n",
      "==============================================================================\n",
      "Feature matching\n",
      "==============================================================================\n",
      "I20240823 07:30:43.684980 0x16f89f000 sift.cc:1457] Creating SIFT CPU feature matcher\n",
      "I20240823 07:30:43.685019 0x16f92b000 sift.cc:1457] Creating SIFT CPU feature matcher\n",
      "I20240823 07:30:43.685034 0x16f9b7000 sift.cc:1457] Creating SIFT CPU feature matcher\n",
      "I20240823 07:30:43.685049 0x16fa43000 sift.cc:1457] Creating SIFT CPU feature matcher\n",
      "I20240823 07:30:43.685076 0x16fb5b000 sift.cc:1457] Creating SIFT CPU feature matcher\n",
      "I20240823 07:30:43.685088 0x16fbe7000 sift.cc:1457] Creating SIFT CPU feature matcher\n",
      "I20240823 07:30:43.685062 0x16facf000 sift.cc:1457] Creating SIFT CPU feature matcher\n",
      "I20240823 07:30:43.684985 0x16f813000 sift.cc:1457] Creating SIFT CPU feature matcher\n",
      "I20240823 07:30:43.692830 0x16f787000 pairing.cc:168] Generating exhaustive image pairs...\n",
      "I20240823 07:30:43.692859 0x16f787000 pairing.cc:202] Matching block [1/1, 1/1]\n",
      "I20240823 07:30:43.743804 0x16f787000 feature_matching.cc:46]  in 0.051s\n",
      "I20240823 07:30:43.745015 0x16f787000 timer.cc:91] Elapsed time: 0.001 [minutes]\n",
      "\u001b[0m==============================================================================\u001b[0m\n",
      "\u001b[92mGeometric Verification in 0.08 seconds\u001b[0m\n",
      "\u001b[0m==============================================================================\u001b[0m\n",
      "\u001b[0m==============================================================================\u001b[0m\n",
      "\u001b[92mReconstruction done in 1.85 seconds\u001b[0m\n",
      "\u001b[0m==============================================================================\u001b[0m\n",
      "\u001b[92mRegistered 5/5 images\u001b[0m\n",
      "\u001b[0m==============================================================================\u001b[0m\n",
      "\u001b[92mRegistered images saved at example/output/registered_images.txt\u001b[0m\n"
     ]
    }
   ],
   "source": [
    "!python colmap_reconstructer.py --input_path \"{output_folder}\" --image_path \"{image_folder}\""
   ]
  }
 ],
 "metadata": {
  "kernelspec": {
   "display_name": "post-processing",
   "language": "python",
   "name": "python3"
  },
  "language_info": {
   "codemirror_mode": {
    "name": "ipython",
    "version": 3
   },
   "file_extension": ".py",
   "mimetype": "text/x-python",
   "name": "python",
   "nbconvert_exporter": "python",
   "pygments_lexer": "ipython3",
   "version": "3.11.5"
  }
 },
 "nbformat": 4,
 "nbformat_minor": 2
}
